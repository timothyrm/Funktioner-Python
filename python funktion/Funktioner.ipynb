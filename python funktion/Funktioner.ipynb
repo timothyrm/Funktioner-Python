{
 "metadata": {
  "language_info": {
   "codemirror_mode": {
    "name": "ipython",
    "version": 3
   },
   "file_extension": ".py",
   "mimetype": "text/x-python",
   "name": "python",
   "nbconvert_exporter": "python",
   "pygments_lexer": "ipython3",
   "version": "3.8.3-final"
  },
  "orig_nbformat": 2,
  "kernelspec": {
   "name": "python3",
   "display_name": "Python 3",
   "language": "python"
  }
 },
 "nbformat": 4,
 "nbformat_minor": 2,
 "cells": [
  {
   "cell_type": "code",
   "execution_count": 62,
   "metadata": {},
   "outputs": [
    {
     "output_type": "stream",
     "name": "stdout",
     "text": [
      "5050.0\n"
     ]
    }
   ],
   "source": [
    "#1, a och b\n",
    "def artimetisk_summa(n,a1,an):\n",
    "    return n*(a1+an)/2 \n",
    "print(artimetisk_summa(100,1,100))"
   ]
  },
  {
   "cell_type": "code",
   "execution_count": 1,
   "metadata": {},
   "outputs": [
    {
     "output_type": "stream",
     "name": "stdout",
     "text": [
      "12.0\n"
     ]
    }
   ],
   "source": [
    "#c\n",
    "n=int(input(\"ange ett värde för n\"))\n",
    "a1=int(input(\"ange ett värde för a1\"))\n",
    "an=int(input(\"ange ett värde för an\"))\n",
    "\n",
    "def artimetisk_summa(n,a1,an):\n",
    "    return n*(a1+an)/2\n",
    "print(artimetisk_summa(n,a1,an))"
   ]
  },
  {
   "cell_type": "code",
   "execution_count": 174,
   "metadata": {},
   "outputs": [
    {
     "output_type": "stream",
     "name": "stdout",
     "text": [
      "6.0\n"
     ]
    }
   ],
   "source": [
    "#2\n",
    "a1=1\n",
    "\n",
    "n=int(input(\"ange ett värde för n\"))\n",
    "def f(n): \n",
    "    an=2*n+1\n",
    "    return n*(a1+an)/2\n",
    "print(f(n))\n",
    "\n",
    "# print(\"s==1+3+5+...+\"+str(an)+\"=\"str(f(n)))\n",
    "#DETTA BORDE FUNKA!!! men använder mig utav bara print(f(n)) för att få svaret direkt."
   ]
  },
  {
   "cell_type": "code",
   "execution_count": 119,
   "metadata": {},
   "outputs": [
    {
     "output_type": "stream",
     "name": "stdout",
     "text": [
      "13.5\n"
     ]
    }
   ],
   "source": [
    "#2,  b\n",
    "a=int(input(\"ange ett startvärde\"))\n",
    "n=int(input(\"ange ett värde för n\"))\n",
    "def f(a,n): \n",
    "    an=2*n+1\n",
    "    return n*(a+an)/2\n",
    "print(f(a,n))\n",
    "#samma som förra bara att jag gjorde ett start nummer."
   ]
  },
  {
   "cell_type": "code",
   "execution_count": 146,
   "metadata": {},
   "outputs": [
    {
     "output_type": "stream",
     "name": "stdout",
     "text": [
      "5.385164807134504\n"
     ]
    }
   ],
   "source": [
    "#3 a\n",
    "import math\n",
    "a=math.sqrt((3-1)**2+(3- -2)**2)\n",
    "print(a)"
   ]
  },
  {
   "cell_type": "code",
   "execution_count": 173,
   "metadata": {},
   "outputs": [
    {
     "output_type": "stream",
     "name": "stdout",
     "text": [
      "2.23606797749979\n"
     ]
    }
   ],
   "source": [
    "#3 b\n",
    "#för att räkna ut avståndet mellan två punkter är roten ur (x2-x1)**2 + (y2-y1)**2 \n",
    "import math\n",
    "def f(a,b):\n",
    "    y1=a[1]\n",
    "    y2=b[1]\n",
    "    x1=a[0]\n",
    "    x2=b[0]\n",
    "    return math.sqrt((y2-y1)**2+(x2-x1)**2)\n",
    "print(f([1,2],[3,1]))"
   ]
  },
  {
   "cell_type": "code",
   "execution_count": 164,
   "metadata": {},
   "outputs": [
    {
     "output_type": "stream",
     "name": "stdout",
     "text": [
      "1.4142135623730951\n"
     ]
    }
   ],
   "source": [
    "#3 c\n",
    "import math\n",
    "a = [0,0]\n",
    "b = [0,0]\n",
    "\n",
    "a[0]=int(input(\"ange ett tal för x kordinaten till första punkten\"))\n",
    "a[1]=int(input(\"ange ett tal för y kordinaten till första punkten\"))\n",
    "b[0]=int(input(\"ange ett tal för x kordinaten till andra punkten\"))\n",
    "b[1]=int(input(\"ange ett tal för y kordinaten till andra punkten\"))    \n",
    "\n",
    "def f(a,b):\n",
    "    y1=a[1]\n",
    "    y2=b[1]\n",
    "    x1=a[0]\n",
    "    x2=b[0]\n",
    "    return math.sqrt((y2-y1)**2+(x2-x1)**2)\n",
    "print(f(a,b))\n"
   ]
  },
  {
   "cell_type": "code",
   "execution_count": 18,
   "metadata": {},
   "outputs": [
    {
     "output_type": "error",
     "ename": "NameError",
     "evalue": "name 'b' is not defined",
     "traceback": [
      "\u001b[1;31m---------------------------------------------------------------------------\u001b[0m",
      "\u001b[1;31mNameError\u001b[0m                                 Traceback (most recent call last)",
      "\u001b[1;32m<ipython-input-18-9b0f1ed4ee77>\u001b[0m in \u001b[0;36m<module>\u001b[1;34m\u001b[0m\n\u001b[1;32m----> 1\u001b[1;33m \u001b[0mrange\u001b[0m\u001b[1;33m(\u001b[0m\u001b[0ma\u001b[0m\u001b[1;33m,\u001b[0m\u001b[0mb\u001b[0m\u001b[1;33m)\u001b[0m\u001b[1;33m\u001b[0m\u001b[1;33m\u001b[0m\u001b[0m\n\u001b[0m\u001b[0;32m      2\u001b[0m \u001b[0mprint\u001b[0m\u001b[1;33m(\u001b[0m\u001b[0mrange\u001b[0m\u001b[1;33m(\u001b[0m\u001b[1;36m1\u001b[0m\u001b[1;33m,\u001b[0m\u001b[1;36m10\u001b[0m\u001b[1;33m)\u001b[0m\u001b[1;33m)\u001b[0m\u001b[1;33m\u001b[0m\u001b[1;33m\u001b[0m\u001b[0m\n",
      "\u001b[1;31mNameError\u001b[0m: name 'b' is not defined"
     ]
    }
   ],
   "source": []
  },
  {
   "cell_type": "code",
   "execution_count": 108,
   "metadata": {},
   "outputs": [
    {
     "output_type": "error",
     "ename": "SyntaxError",
     "evalue": "f-string: empty expression not allowed (<ipython-input-108-f3ca511e4cee>, line 11)",
     "traceback": [
      "\u001b[1;36m  File \u001b[1;32m\"<ipython-input-108-f3ca511e4cee>\"\u001b[1;36m, line \u001b[1;32m11\u001b[0m\n\u001b[1;33m    print(f\"{summa} = {a1} + {} + ... + {an}\")\u001b[0m\n\u001b[1;37m          ^\u001b[0m\n\u001b[1;31mSyntaxError\u001b[0m\u001b[1;31m:\u001b[0m f-string: empty expression not allowed\n"
     ]
    }
   ],
   "source": []
  },
  {
   "cell_type": "code",
   "execution_count": null,
   "metadata": {},
   "outputs": [],
   "source": []
  }
 ]
}